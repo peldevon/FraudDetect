{
 "cells": [
  {
   "cell_type": "code",
   "execution_count": 2,
   "id": "initial_id",
   "metadata": {
    "collapsed": true,
    "ExecuteTime": {
     "end_time": "2024-03-30T20:24:54.665847Z",
     "start_time": "2024-03-30T20:24:54.657921Z"
    }
   },
   "outputs": [],
   "source": [
    "import pandas as pd\n",
    "\n",
    "data = pd.read_csv('SwedishMotorInsurance.csv', header=0)"
   ]
  },
  {
   "cell_type": "code",
   "outputs": [
    {
     "name": "stdout",
     "output_type": "stream",
     "text": [
      "Kilometres    0\n",
      "Zone          0\n",
      "Bonus         0\n",
      "Make          0\n",
      "Insured       0\n",
      "Claims        0\n",
      "Payment       0\n",
      "dtype: int64\n"
     ]
    }
   ],
   "source": [
    "print(data.isnull().sum())\n"
   ],
   "metadata": {
    "collapsed": false,
    "ExecuteTime": {
     "end_time": "2024-03-30T20:24:54.674016Z",
     "start_time": "2024-03-30T20:24:54.666850Z"
    }
   },
   "id": "ede4d79178d59089",
   "execution_count": 3
  },
  {
   "cell_type": "code",
   "outputs": [],
   "source": [
    "from sklearn.preprocessing import LabelEncoder, OneHotEncoder\n",
    "\n",
    "# Encode 'Zone' 'Bonus' and 'Make' columns\n",
    "le = LabelEncoder()\n",
    "data['Zone'] = le.fit_transform(data['Zone'])\n",
    "data['Bonus'] = le.fit_transform(data['Bonus'])\n",
    "data['Make'] = le.fit_transform(data['Make'])"
   ],
   "metadata": {
    "collapsed": false,
    "ExecuteTime": {
     "end_time": "2024-03-30T20:24:58.349378Z",
     "start_time": "2024-03-30T20:24:54.677014Z"
    }
   },
   "id": "aa15116c2a832ead",
   "execution_count": 4
  },
  {
   "cell_type": "code",
   "outputs": [],
   "source": [
    "X = data.drop('Payment', axis=1)\n",
    "y = data['Payment']"
   ],
   "metadata": {
    "collapsed": false,
    "ExecuteTime": {
     "end_time": "2024-03-30T20:24:58.361750Z",
     "start_time": "2024-03-30T20:24:58.350413Z"
    }
   },
   "id": "d31c399691828eda",
   "execution_count": 5
  },
  {
   "cell_type": "code",
   "outputs": [],
   "source": [
    "from sklearn.model_selection import train_test_split\n",
    "\n",
    "X_train, X_test, y_train, y_test = train_test_split(X, y, test_size=0.2, random_state=42)"
   ],
   "metadata": {
    "collapsed": false,
    "ExecuteTime": {
     "end_time": "2024-03-30T20:24:58.916962Z",
     "start_time": "2024-03-30T20:24:58.363748Z"
    }
   },
   "id": "90da2d5321b0c911",
   "execution_count": 6
  },
  {
   "cell_type": "code",
   "outputs": [],
   "source": [
    "from sklearn.preprocessing import StandardScaler\n",
    "\n",
    "scaler = StandardScaler()\n",
    "X_train = scaler.fit_transform(X_train)\n",
    "X_test = scaler.transform(X_test)"
   ],
   "metadata": {
    "collapsed": false,
    "ExecuteTime": {
     "end_time": "2024-03-30T20:24:58.931515Z",
     "start_time": "2024-03-30T20:24:58.917999Z"
    }
   },
   "id": "c609b63c11a86f9e",
   "execution_count": 7
  },
  {
   "cell_type": "code",
   "outputs": [],
   "source": [
    "import numpy as np\n",
    "\n",
    "X_train = np.reshape(X_train, (X_train.shape[0], 1, X_train.shape[1]))\n",
    "X_test = np.reshape(X_test, (X_test.shape[0], 1, X_test.shape[1]))"
   ],
   "metadata": {
    "collapsed": false,
    "ExecuteTime": {
     "end_time": "2024-03-30T20:24:58.938291Z",
     "start_time": "2024-03-30T20:24:58.932526Z"
    }
   },
   "id": "e10cc272ec5ea8e",
   "execution_count": 8
  },
  {
   "cell_type": "code",
   "outputs": [],
   "source": [],
   "metadata": {
    "collapsed": false,
    "ExecuteTime": {
     "end_time": "2024-03-30T20:24:58.942894Z",
     "start_time": "2024-03-30T20:24:58.939285Z"
    }
   },
   "id": "9df2721e1b986c49",
   "execution_count": 8
  }
 ],
 "metadata": {
  "kernelspec": {
   "display_name": "Python 3",
   "language": "python",
   "name": "python3"
  },
  "language_info": {
   "codemirror_mode": {
    "name": "ipython",
    "version": 2
   },
   "file_extension": ".py",
   "mimetype": "text/x-python",
   "name": "python",
   "nbconvert_exporter": "python",
   "pygments_lexer": "ipython2",
   "version": "2.7.6"
  }
 },
 "nbformat": 4,
 "nbformat_minor": 5
}
